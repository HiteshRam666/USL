{
 "cells": [
  {
   "cell_type": "code",
   "execution_count": null,
   "id": "d372a1e7-42a0-4795-9566-466319fefb08",
   "metadata": {},
   "outputs": [],
   "source": [
    "import pandas as pd \n",
    "import numpy as np \n",
    "import matplotlib.pyplot as plt \n",
    "import seaborn as sns\n",
    "import warnings\n",
    "warnings.filterwarnings(\"ignore\")\n",
    "\n",
    "from sklearn.feature_selection import VarianceThreshold, SelectKBest, f_classif\n",
    "\n",
    "from sklearn.linear_model import LogisticRegression\n",
    "from sklearn.metrics import accuracy_score\n",
    "from sklearn.ensemble import RandomForestClassifier"
   ]
  },
  {
   "cell_type": "code",
   "execution_count": 90,
   "id": "f622b408-4c2a-404d-92ab-2859e05160b0",
   "metadata": {},
   "outputs": [],
   "source": [
    "# Load the dataset\n",
    "df = pd.read_csv(\"first_500_rows.csv\")"
   ]
  },
  {
   "cell_type": "code",
   "execution_count": 91,
   "id": "d2a83489-993a-492e-ae01-e124f53f5869",
   "metadata": {},
   "outputs": [
    {
     "data": {
      "text/plain": [
       "(500, 592)"
      ]
     },
     "execution_count": 91,
     "metadata": {},
     "output_type": "execute_result"
    }
   ],
   "source": [
    "df.shape"
   ]
  },
  {
   "cell_type": "code",
   "execution_count": 92,
   "id": "7e5e61ec-f463-4488-ab1d-9587e9d3691d",
   "metadata": {},
   "outputs": [],
   "source": [
    "df.drop(columns = [\"Time\"], inplace = True)"
   ]
  },
  {
   "cell_type": "code",
   "execution_count": 93,
   "id": "793a0e3a-b67a-4fff-9c9a-c68044ee066e",
   "metadata": {},
   "outputs": [],
   "source": [
    "# Fill remaining missing values with the mean\n",
    "df.fillna(df.mean(), inplace = True)"
   ]
  },
  {
   "cell_type": "code",
   "execution_count": 94,
   "id": "a1b544fa-eb10-48c8-b3a7-5069f8d904dc",
   "metadata": {},
   "outputs": [],
   "source": [
    "# Split dataset into features (X) and target (y)\n",
    "X = df.drop(columns = [\"Pass/Fail\"])\n",
    "y = df[\"Pass/Fail\"]"
   ]
  },
  {
   "cell_type": "code",
   "execution_count": 126,
   "id": "0a573b7f-0b23-4c5e-9b6c-d33e1bbdf929",
   "metadata": {},
   "outputs": [],
   "source": [
    "from sklearn.model_selection import train_test_split\n",
    "# Split into train and test sets\n",
    "X_train, X_test, y_train, y_test = train_test_split(X, y, test_size=0.2, random_state=42)"
   ]
  },
  {
   "cell_type": "code",
   "execution_count": 127,
   "id": "404086c0-5e00-4f05-a265-49db899ca2bc",
   "metadata": {},
   "outputs": [
    {
     "data": {
      "text/plain": [
       "((400, 590), (100, 590), (400,), (100,))"
      ]
     },
     "execution_count": 127,
     "metadata": {},
     "output_type": "execute_result"
    }
   ],
   "source": [
    "X_train.shape, X_test.shape, y_train.shape, y_test.shape"
   ]
  },
  {
   "cell_type": "code",
   "execution_count": 128,
   "id": "222ea3ec-9fc1-4747-a08b-ccd6eec290d1",
   "metadata": {},
   "outputs": [],
   "source": [
    "from sklearn.impute import SimpleImputer\n",
    "imputer = SimpleImputer(strategy = \"mean\")\n",
    "X_train = imputer.fit_transform(X_train)\n",
    "X_test = imputer.transform(X_test)"
   ]
  },
  {
   "cell_type": "code",
   "execution_count": 129,
   "id": "5f9f43a3-87d2-44c3-81fa-3067c7bd2f86",
   "metadata": {},
   "outputs": [],
   "source": [
    "from sklearn.preprocessing import StandardScaler\n",
    "scaler = StandardScaler()\n",
    "X_train = scaler.fit_transform(X_train)\n",
    "X_test = scaler.fit_transform(X_test)"
   ]
  },
  {
   "cell_type": "markdown",
   "id": "8105c7f8-1156-42db-bbc9-1092d844de7f",
   "metadata": {},
   "source": [
    "### 1. VarianceThreshold (removes low-variance features)"
   ]
  },
  {
   "cell_type": "code",
   "execution_count": 131,
   "id": "64799964-ab81-4360-b480-9b5cc7ac563a",
   "metadata": {},
   "outputs": [],
   "source": [
    "selector = VarianceThreshold()\n",
    "X_train_var = selector.fit_transform(X_train)\n",
    "X_test_var = selector.fit_transform(X_test)"
   ]
  },
  {
   "cell_type": "code",
   "execution_count": 132,
   "id": "2b4cac60-3cac-46df-93f4-f6470dccb6b6",
   "metadata": {},
   "outputs": [
    {
     "name": "stdout",
     "output_type": "stream",
     "text": [
      "Shape before Feature selection:  (400, 574) (100, 574)\n",
      "Shape after Feature selection:  (400, 452) (100, 448)\n"
     ]
    }
   ],
   "source": [
    "print(\"Shape before Feature selection: \", X_train.shape, X_test.shape)\n",
    "print(\"Shape after Feature selection: \", X_train_var.shape, X_test_var.shape)"
   ]
  },
  {
   "cell_type": "markdown",
   "id": "481e216a-3877-467b-a581-2cf86589270b",
   "metadata": {},
   "source": [
    "### 2. SelectKBest (selects top 10 features based on ANOVA F-score)"
   ]
  },
  {
   "cell_type": "code",
   "execution_count": 134,
   "id": "a1a673de-c41f-4dbf-a430-0bc394f508f3",
   "metadata": {},
   "outputs": [],
   "source": [
    "selector = SelectKBest(score_func = f_classif, k = 10)\n",
    "X_train_best = selector.fit_transform(X_train, y_train)\n",
    "X_train_best = selector.transform(X_test)"
   ]
  },
  {
   "cell_type": "code",
   "execution_count": 137,
   "id": "46a73085-a47d-43a9-b87c-5e34de534831",
   "metadata": {},
   "outputs": [
    {
     "name": "stdout",
     "output_type": "stream",
     "text": [
      "Shape before Feature selection:  (400, 574) (100, 574)\n",
      "Shape after Feature selection:  (400, 10) (400, 10)\n"
     ]
    }
   ],
   "source": [
    "print(\"Shape before Feature selection: \", X_train.shape, X_test.shape)\n",
    "print(\"Shape after Feature selection: \", X_train_best.shape, X_train_best.shape)"
   ]
  },
  {
   "cell_type": "markdown",
   "id": "d83a7227-dff9-451a-8869-848c67ba23bd",
   "metadata": {},
   "source": [
    "### --------------------- DIMENSIONALITY REDUCTION USING PCA --------------------- #"
   ]
  },
  {
   "cell_type": "code",
   "execution_count": 138,
   "id": "d79e4c4c-9079-402a-8c86-18ed0ece1e02",
   "metadata": {},
   "outputs": [],
   "source": [
    "# Apply PCA to reduce dimensions to 4 components (FIXED: Ensure PCA components do not exceed features)\n",
    "from sklearn.decomposition import PCA\n",
    "n_pca_components = 10\n",
    "pca = PCA(n_components = n_pca_components)\n",
    "X_train_pca = pca.fit_transform(X_train)\n",
    "X_test_pca = pca.transform(X_test)"
   ]
  },
  {
   "cell_type": "code",
   "execution_count": 141,
   "id": "d31a3edf-b062-46f5-852d-c90519b7e70c",
   "metadata": {},
   "outputs": [
    {
     "name": "stdout",
     "output_type": "stream",
     "text": [
      "Shape before PCA:  (400, 574) (100, 574)\n",
      "Shape after PCA:  (400, 10) (100, 10)\n"
     ]
    }
   ],
   "source": [
    "print(\"Shape before PCA: \", X_train.shape, X_test.shape)\n",
    "print(\"Shape after PCA: \", X_train_pca.shape, X_test_pca.shape)"
   ]
  },
  {
   "cell_type": "code",
   "execution_count": 143,
   "id": "8991bbe1-d628-415c-84b8-5f94f2b8a9d9",
   "metadata": {},
   "outputs": [
    {
     "name": "stdout",
     "output_type": "stream",
     "text": [
      "\n",
      "Logistic Regression Accuracy: 0.86\n"
     ]
    }
   ],
   "source": [
    "from sklearn.linear_model import LogisticRegression\n",
    "from sklearn.metrics import accuracy_score\n",
    "# Train Logistic Regression Model\n",
    "log_reg = LogisticRegression()\n",
    "log_reg.fit(X_train_pca, y_train)\n",
    "y_pred_log = log_reg.predict(X_test_pca)\n",
    "accuracy_log = accuracy_score(y_test, y_pred_log)\n",
    "print(f\"\\nLogistic Regression Accuracy: {accuracy_log:.2f}\")"
   ]
  },
  {
   "cell_type": "code",
   "execution_count": null,
   "id": "8398fe09-345c-428a-8f37-f4321d963d0b",
   "metadata": {},
   "outputs": [],
   "source": []
  }
 ],
 "metadata": {
  "kernelspec": {
   "display_name": "Python 3 (ipykernel)",
   "language": "python",
   "name": "python3"
  },
  "language_info": {
   "codemirror_mode": {
    "name": "ipython",
    "version": 3
   },
   "file_extension": ".py",
   "mimetype": "text/x-python",
   "name": "python",
   "nbconvert_exporter": "python",
   "pygments_lexer": "ipython3",
   "version": "3.12.7"
  }
 },
 "nbformat": 4,
 "nbformat_minor": 5
}
